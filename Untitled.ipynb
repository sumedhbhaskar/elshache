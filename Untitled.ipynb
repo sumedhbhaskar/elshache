{
 "cells": [
  {
   "cell_type": "code",
   "execution_count": 43,
   "metadata": {},
   "outputs": [],
   "source": [
    "\"\"\"\"\n",
    " new backend for encryption app\n",
    "\"\"\"\n",
    "\n",
    "import math \n",
    "import numpy as np\n",
    "import random\n",
    "import sympy\n",
    "from functools import reduce\n",
    "\n",
    "from random import randint\n",
    "from numpy import poly1d\n",
    "from numpy.polynomial.polynomial import Polynomial as poly\n",
    "\n",
    "\n",
    "PRIME = 2**8+1\n",
    "\n",
    "class elshache:\n",
    "    \n",
    "    \n",
    "    \n",
    "    \n",
    "    @staticmethod\n",
    "    def findInverse(r,finitefieldprime):\n",
    "        for i in range(finitefieldprime):\n",
    "            if(math.fmod(r*i,finitefieldprime)==1):\n",
    "                return i\n",
    "\n",
    "    def __init__(self,s,n,t):\n",
    "        self.secret  = s\n",
    "        self.total_share = n\n",
    "        self.min_share = t\n",
    "        self.randomNumber = random.randint(1,PRIME)\n",
    "        self.randomNumberInverse = elshache.findInverse(self.randomNumber,PRIME)\n",
    "        self.z_a1_coef = self.randomNumber*self.secret\n",
    "\n",
    "        self.sntrbz = [self.secret,self.total_share,self.min_share,self.randomNumber,self.randomNumberInverse,self.z_a1_coef]\n",
    "\n",
    "    def shareConstruction(self):\n",
    "\n",
    "        coef = []\n",
    "        for i in range(self.min_share - 2):\n",
    "            coef.append(randint(1,PRIME))\n",
    "\n",
    "        coef.append(self.z_a1_coef)\n",
    "        coef.append(self.secret)\n",
    "\n",
    "        #equation \n",
    "        equation = poly1d(coef)\n",
    "\n",
    "        return [ ( i , equation(i)%PRIME ) for i in range(1,self.total_share+1) ]\n",
    "\n",
    "\n",
    "class elshache_re:\n",
    "    \n",
    "    \n",
    "\n",
    "    def shareReconstruction(self,x_coef,y_coef,min_share):\n",
    "        if(len(x_coef)!=len(y_coef) or len(x_coef) < min_share or len(y_coef) < min_share):\n",
    "            raise Exception(\"Please recheck you input file. X and Y coef does'nt match.\")\n",
    "\n",
    "        summation = 0\n",
    "\n",
    "        for i in range(len(x_coef)):\n",
    "            l = 1\n",
    "            for m in range(min_share):\n",
    "                if(m!=i):\n",
    "                    l*= (poly([-1*x_coef[m],1])/(x_coef[i]-x_coef[m]))\n",
    "            summation += y_coef[i]*l\n",
    "\n",
    "        return summation.coef[0]%PRIME\n",
    "\n",
    "    def shareReconstruction_a1(self,x_coef,y_coef,min_share,randomNumberInverse):\n",
    "        \n",
    "        if(len(x_coef)!=len(y_coef) or len(x_coef) < min_share or len(y_coef) < min_share):\n",
    "            raise Exception(\"Please recheck you input file. X and Y coef does'nt match.\")\n",
    "        \n",
    "        summation = 0\n",
    "        \n",
    "        for i in range(len(x_coef)):\n",
    "            l = 1\n",
    "            \n",
    "            for m in range(min_share):\n",
    "                if(m!=i):\n",
    "                    l*= (poly([-1*x_coef[m],1])/(x_coef[i]-x_coef[m]))\n",
    "            summation += y_coef[i]*l\n",
    "\n",
    "        return (summation.coef[1]*randomNumberInverse)%PRIME\n",
    "\n",
    "\n"
   ]
  },
  {
   "cell_type": "code",
   "execution_count": 30,
   "metadata": {},
   "outputs": [],
   "source": [
    "obj = elshache(20,10,5)"
   ]
  },
  {
   "cell_type": "code",
   "execution_count": 31,
   "metadata": {},
   "outputs": [
    {
     "data": {
      "text/plain": [
       "181"
      ]
     },
     "execution_count": 31,
     "metadata": {},
     "output_type": "execute_result"
    }
   ],
   "source": [
    "obj.randomNumberInverse\n"
   ]
  },
  {
   "cell_type": "code",
   "execution_count": 32,
   "metadata": {},
   "outputs": [
    {
     "data": {
      "text/plain": [
       "1420"
      ]
     },
     "execution_count": 32,
     "metadata": {},
     "output_type": "execute_result"
    }
   ],
   "source": [
    "obj.z_a1_coef"
   ]
  },
  {
   "cell_type": "code",
   "execution_count": 33,
   "metadata": {},
   "outputs": [
    {
     "data": {
      "text/plain": [
       "1420"
      ]
     },
     "execution_count": 33,
     "metadata": {},
     "output_type": "execute_result"
    }
   ],
   "source": [
    "obj.z_a1_coef"
   ]
  },
  {
   "cell_type": "code",
   "execution_count": 34,
   "metadata": {},
   "outputs": [
    {
     "data": {
      "text/plain": [
       "257020"
      ]
     },
     "execution_count": 34,
     "metadata": {},
     "output_type": "execute_result"
    }
   ],
   "source": [
    "obj.z_a1_coef*obj.randomNumberInverse"
   ]
  },
  {
   "cell_type": "code",
   "execution_count": 35,
   "metadata": {},
   "outputs": [
    {
     "data": {
      "text/plain": [
       "20"
      ]
     },
     "execution_count": 35,
     "metadata": {},
     "output_type": "execute_result"
    }
   ],
   "source": [
    "257020%PRIME"
   ]
  },
  {
   "cell_type": "code",
   "execution_count": 36,
   "metadata": {},
   "outputs": [
    {
     "data": {
      "text/plain": [
       "[(1, 70),\n",
       " (2, 33),\n",
       " (3, 147),\n",
       " (4, 116),\n",
       " (5, 138),\n",
       " (6, 134),\n",
       " (7, 5),\n",
       " (8, 146),\n",
       " (9, 161),\n",
       " (10, 148)]"
      ]
     },
     "execution_count": 36,
     "metadata": {},
     "output_type": "execute_result"
    }
   ],
   "source": [
    "obj.shareConstruction()"
   ]
  },
  {
   "cell_type": "code",
   "execution_count": 37,
   "metadata": {},
   "outputs": [],
   "source": [
    "obj1 = elshache_re()"
   ]
  },
  {
   "cell_type": "code",
   "execution_count": 38,
   "metadata": {},
   "outputs": [
    {
     "data": {
      "text/plain": [
       "20.0"
      ]
     },
     "execution_count": 38,
     "metadata": {},
     "output_type": "execute_result"
    }
   ],
   "source": [
    "obj1.shareReconstruction([1,2,3,4,5],[70,33,147,116,138],5)"
   ]
  },
  {
   "cell_type": "code",
   "execution_count": 39,
   "metadata": {},
   "outputs": [
    {
     "data": {
      "text/plain": [
       "105.66666666668607"
      ]
     },
     "execution_count": 39,
     "metadata": {},
     "output_type": "execute_result"
    }
   ],
   "source": [
    "obj1.shareReconstruction_a1([1,2,3,4,5],[70,33,147,116,138],5,181)"
   ]
  },
  {
   "cell_type": "code",
   "execution_count": 17,
   "metadata": {},
   "outputs": [
    {
     "data": {
      "text/plain": [
       "True"
      ]
     },
     "execution_count": 17,
     "metadata": {},
     "output_type": "execute_result"
    }
   ],
   "source": [
    "import sympy\n",
    "sympy.isprime(2**8+1)"
   ]
  },
  {
   "cell_type": "code",
   "execution_count": 40,
   "metadata": {},
   "outputs": [
    {
     "data": {
      "text/plain": [
       "1.0"
      ]
     },
     "execution_count": 40,
     "metadata": {},
     "output_type": "execute_result"
    }
   ],
   "source": [
    "1/3 + 2/3"
   ]
  },
  {
   "cell_type": "code",
   "execution_count": 41,
   "metadata": {},
   "outputs": [
    {
     "data": {
      "text/plain": [
       "0.1"
      ]
     },
     "execution_count": 41,
     "metadata": {},
     "output_type": "execute_result"
    }
   ],
   "source": [
    "0.1"
   ]
  },
  {
   "cell_type": "code",
   "execution_count": 42,
   "metadata": {},
   "outputs": [
    {
     "data": {
      "text/plain": [
       "False"
      ]
     },
     "execution_count": 42,
     "metadata": {},
     "output_type": "execute_result"
    }
   ],
   "source": [
    "0.1+0.1+0.1 == .3"
   ]
  },
  {
   "cell_type": "code",
   "execution_count": null,
   "metadata": {},
   "outputs": [],
   "source": []
  }
 ],
 "metadata": {
  "kernelspec": {
   "display_name": "Python 3",
   "language": "python",
   "name": "python3"
  },
  "language_info": {
   "codemirror_mode": {
    "name": "ipython",
    "version": 3
   },
   "file_extension": ".py",
   "mimetype": "text/x-python",
   "name": "python",
   "nbconvert_exporter": "python",
   "pygments_lexer": "ipython3",
   "version": "3.7.4"
  }
 },
 "nbformat": 4,
 "nbformat_minor": 2
}
